{
 "cells": [
  {
   "cell_type": "markdown",
   "id": "5a7c9cd9-2640-4a22-bea9-2494e343535d",
   "metadata": {},
   "source": [
    "## Initialisation\n",
    "\n",
    "On charge les modules nécessaires :\n",
    "* `matplotlib`, un module python pour faire des graphiques\n",
    "* `settings` qui définit des paramètres de configuration\n",
    "* `dbwalk`, un module fait maison qui s'interface à la BD"
   ]
  },
  {
   "cell_type": "code",
   "execution_count": 2,
   "id": "bcaf9547-b7d1-445e-b3ee-b66dfb2cb13c",
   "metadata": {},
   "outputs": [],
   "source": [
    "import matplotlib.pyplot as plt\n",
    "import settings as cf\n",
    "from dbwalk import Session, WishTable, MembershipTable, ActivityTable"
   ]
  },
  {
   "cell_type": "markdown",
   "id": "72d26956-3c84-4c7a-b001-d5ac40a6b1c8",
   "metadata": {},
   "source": [
    "## Ouverture d'une session sur le serveur\n",
    "\n",
    "On se connecte à la base de données. Si les 2 valeurs demandées ci-dessous ne sont pas renseignées, on se connecte avec les valeurs définies dans `settings.py`."
   ]
  },
  {
   "cell_type": "code",
   "execution_count": 3,
   "id": "a9ba7957-9a00-40de-9911-be7ec53814ce",
   "metadata": {},
   "outputs": [
    {
     "name": "stdin",
     "output_type": "stream",
     "text": [
      "User name (empty for default) :  \n",
      "Password (empty for default) :  \n"
     ]
    },
    {
     "data": {
      "text/plain": [
       "0"
      ]
     },
     "execution_count": 3,
     "metadata": {},
     "output_type": "execute_result"
    }
   ],
   "source": [
    "session = Session()\n",
    "user = input(f\"User name (empty for default) : \")\n",
    "passwd = input(\"Password (empty for default) : \")\n",
    "\n",
    "session.open()"
   ]
  },
  {
   "cell_type": "markdown",
   "id": "4ebf97a6-0aad-4692-a3c1-bf885a08aaa2",
   "metadata": {},
   "source": [
    "## Récupération des tables"
   ]
  },
  {
   "cell_type": "markdown",
   "id": "cb47d3b6-47b7-4a34-8586-8be9753e676f",
   "metadata": {},
   "source": [
    "### UATL_Membership\n",
    "On récupère la table `UATL_Membership` depuis le serveur.\n",
    "Son contenu est stocké localement dans un fichier temporaire.\n",
    "\n",
    "Puis on épure : on garde seulement les lignes et colonnes qui nous intéressent."
   ]
  },
  {
   "cell_type": "code",
   "execution_count": 4,
   "id": "e593b042-7181-4869-aac1-4c80c141afd7",
   "metadata": {},
   "outputs": [
    {
     "name": "stdout",
     "output_type": "stream",
     "text": [
      "stockée dans /tmp/mysession_query337\n",
      "             Status     CreatedDateTime     Id  MemberId  Year_Code\n",
      "39856         Payed 2025-01-09 10:55:18  43891      9373         14\n",
      "39857         Payed 2025-01-09 11:04:02  43892      9372         14\n",
      "39858         Payed 2025-01-21 16:05:34  43893      2016         14\n",
      "39859         Payed 2025-01-21 17:17:24  43894      9374         14\n",
      "39860         Payed 2025-03-21 17:15:46  43895      8637         14\n",
      "...             ...                 ...    ...       ...        ...\n",
      "42734         Payed 2025-06-14 10:38:32  47485      7206         15\n",
      "42735         Payed 2025-06-14 15:30:42  47486      9811         15\n",
      "42736         Payed 2025-06-14 16:28:37  47487      1682         15\n",
      "42737  WaitPayement 2025-06-14 16:59:43  47488      4651         15\n",
      "42738  WaitPayement 2025-06-14 18:44:54  47489      2859         15\n",
      "\n",
      "[2883 rows x 5 columns]\n"
     ]
    }
   ],
   "source": [
    "membership_query = session.query(cf.MEMBERSHIP_QUERY)\n",
    "print(f\"stockée dans {membership_query}\")\n",
    "\n",
    "mt = MembershipTable(membership_query)\n",
    "mt.adjust()\n",
    "print(mt)"
   ]
  },
  {
   "cell_type": "markdown",
   "id": "0f88e293-9052-46ea-8571-eb6b1ac3d364",
   "metadata": {},
   "source": [
    "### UATL_Activity\n",
    "On récupère la table `UATL_Activity` depuis le serveur.\n",
    "Son contenu est stocké localement dans un fichier temporaire.\n",
    "\n",
    "Puis on épure : on garde seulement les lignes et colonnes qui nous intéressent."
   ]
  },
  {
   "cell_type": "code",
   "execution_count": 5,
   "id": "28aa893b-2f9c-40d6-8fac-aab39e190ec9",
   "metadata": {},
   "outputs": [
    {
     "name": "stdout",
     "output_type": "stream",
     "text": [
      "stockée dans /tmp/mysession_query338\n",
      "        Id Reference                                           Label  \\\n",
      "2444  4006      3108                             L'URSS sous Staline   \n",
      "2481  4047      4130                          Informatique familiale   \n",
      "2517  4085      5310                              Musique de chambre   \n",
      "2539  4108      6551                                  Atelier Pop-Up   \n",
      "2547  4116      6130                            Dentelle aux fuseaux   \n",
      "...    ...       ...                                             ...   \n",
      "4465  6078      3172       Existence commune et évènement historique   \n",
      "4484  6097      5400                                       Orchestre   \n",
      "4494  6107      9082  ACTIVITITE A TICKET : Confiserie du 25/11/2024   \n",
      "4515  6128      5314                                     Enluminure    \n",
      "4519  6134      7491                  Do-in, souplesse et relaxation   \n",
      "\n",
      "          Cycle  LeaningCycleYear  \\\n",
      "2444  Pedagogic               2.0   \n",
      "2481        NaN               NaN   \n",
      "2517   Learning               NaN   \n",
      "2539        NaN               NaN   \n",
      "2547   Learning               NaN   \n",
      "...         ...               ...   \n",
      "4465        NaN               NaN   \n",
      "4484        NaN               NaN   \n",
      "4494        NaN               NaN   \n",
      "4515        NaN               NaN   \n",
      "4519        NaN               NaN   \n",
      "\n",
      "                                            Description  \\\n",
      "2444  <p>Apr&egrave;s l'&eacute;tude du syst&egrave;...   \n",
      "2481  <p>Devenir plus assur&eacute; avec les mat&eac...   \n",
      "2517  <p>Musique classique pour instruments en ut.<b...   \n",
      "2539  <p>Les livres anim&eacute;s, 3D, ou Pop-Up r&e...   \n",
      "2547  <p>Cycle d'apprentissage.<br />Acquisition des...   \n",
      "...                                                 ...   \n",
      "4465  <p style=\"margin-bottom: 8.0pt;\"><span style=\"...   \n",
      "4484  <p>Si vous souhaitez interpr&eacute;ter des &o...   \n",
      "4494  <p>ACTIVITE A TICKET : veuillez r&eacute;serve...   \n",
      "4515  <p>Copie et cr&eacute;ations &agrave; partir d...   \n",
      "4519  <p>S&eacute;ances consistant en des automassag...   \n",
      "\n",
      "                                       LevelDescription  \\\n",
      "2444  Priorité pour les auditeurs de cette activité ...   \n",
      "2481                                    Niveau débutant   \n",
      "2517  Niveau : minimum 10 ans de pratique instrument...   \n",
      "2539  Prérequis : une vision 3D, un peu de géométrie...   \n",
      "2547                                                NaN   \n",
      "...                                                 ...   \n",
      "4465                                      ouvert à tous   \n",
      "4484          quelques années de pratique instrumentale   \n",
      "4494                                      ouvert à tous   \n",
      "4515           avoir terminé les activités 6400 et 6410   \n",
      "4519                                      ouvert à tous   \n",
      "\n",
      "                                      FrequencyDay FrequencyStartHour  \\\n",
      "2444                    1er et 3ème lundis du mois              10h40   \n",
      "2481                                         Mardi              15h45   \n",
      "2517                                      Vendredi              14h15   \n",
      "2539               Les 2ème et 4ème mardis du mois               9h30   \n",
      "2547                                      Vendredi                 9h   \n",
      "...                                            ...                ...   \n",
      "4465                                             0                 0H   \n",
      "4484  Les 1er, 2ème,3ème et 5ème mercredis du mois                14h   \n",
      "4494                                             O                 OH   \n",
      "4515                                             0                 0h   \n",
      "4519               Les 2ème et 4ème jeudis du mois                11h   \n",
      "\n",
      "     FrequencyEndHour  ...  AnimatorSecurityGroupId  MemberSecurityGroupId  \\\n",
      "2444              12h  ...                      NaN                    NaN   \n",
      "2481            17h15  ...                      NaN                    NaN   \n",
      "2517              17h  ...                      NaN                    NaN   \n",
      "2539            11h30  ...                      NaN                    NaN   \n",
      "2547              12h  ...                      NaN                    NaN   \n",
      "...               ...  ...                      ...                    ...   \n",
      "4465               0H  ...                  37568.0                    NaN   \n",
      "4484            15h30  ...                  37591.0                    NaN   \n",
      "4494               OH  ...                  37629.0                    NaN   \n",
      "4515               0h  ...                  37585.0                    NaN   \n",
      "4519              12h  ...                  37616.0                    NaN   \n",
      "\n",
      "      RoomCode MainPortfolioId Year_Code ActivityCategory_Code ParentId  \\\n",
      "2444       208            95.0        10                     3   3108.0   \n",
      "2481       329           212.0        10                     4      NaN   \n",
      "2517       120           168.0        10                     5   2874.0   \n",
      "2539       224           209.0        10                     6      NaN   \n",
      "2547       201            29.0        10                     6   2906.0   \n",
      "...        ...             ...       ...                   ...      ...   \n",
      "4465       101          2050.0        15                     3      NaN   \n",
      "4484       208          2074.0        15                     5      NaN   \n",
      "4494        37          2113.0        15                     9      NaN   \n",
      "4515         0          2067.0        15                     5      NaN   \n",
      "4519       308          2100.0        15                     7      NaN   \n",
      "\n",
      "     IsArchived  IFrameVideoLink  NeedFinanceFormation  \n",
      "2444       True              NaN                   NaN  \n",
      "2481       True              NaN                   NaN  \n",
      "2517       True              NaN                   NaN  \n",
      "2539       True              NaN                   NaN  \n",
      "2547       True              NaN                   NaN  \n",
      "...         ...              ...                   ...  \n",
      "4465       True              NaN                   NaN  \n",
      "4484       True              NaN                   NaN  \n",
      "4494       True              NaN                   NaN  \n",
      "4515       True              NaN                   NaN  \n",
      "4519       True              NaN                   NaN  \n",
      "\n",
      "[237 rows x 37 columns]\n"
     ]
    }
   ],
   "source": [
    "activity_query = session.query(cf.ACTIVITY_QUERY)\n",
    "print(f\"stockée dans {activity_query}\")\n",
    "\n",
    "at = ActivityTable(activity_query)\n",
    "at.adjust()\n",
    "print(at)"
   ]
  },
  {
   "cell_type": "markdown",
   "id": "43eba5c4-4612-4f9c-8844-1f26dcc2b092",
   "metadata": {},
   "source": [
    "### UATL_Wish\n",
    "On récupère la table `UATL_Wish` depuis le serveur.\n",
    "Son contenu est stocké localement dans un fichier temporaire.\n",
    "\n",
    "Puis on épure : on garde seulement les lignes et colonnes qui nous intéressent."
   ]
  },
  {
   "cell_type": "code",
   "execution_count": 6,
   "id": "2195bd5d-35cb-4ca4-83f2-b99f3b88e16c",
   "metadata": {},
   "outputs": [
    {
     "name": "stdout",
     "output_type": "stream",
     "text": [
      "stockée dans /tmp/mysession_query336\n"
     ]
    },
    {
     "name": "stderr",
     "output_type": "stream",
     "text": [
      "/home/data/jaclin/devel/uatl/dbwalk/dbwalk.py:37: DtypeWarning: Columns (7,8,10,11) have mixed types. Specify dtype option on import or set low_memory=False.\n",
      "  df = pd.read_csv(\n"
     ]
    },
    {
     "name": "stdout",
     "output_type": "stream",
     "text": [
      "            Id  Order Status                Date  MembershipId  ActivityId  \\\n",
      "122516  149673      3  Valid 2025-01-06 11:40:05         41269        5803   \n",
      "122517  149674      5  Valid 2025-01-06 12:04:16         41234        5803   \n",
      "122518  149675      2  Valid 2025-01-06 16:13:52         42144        5803   \n",
      "122519  149676      3  Valid 2025-01-08 10:26:51         41074        5569   \n",
      "122520  149677      6  Valid 2025-01-08 10:36:44         43291        5798   \n",
      "...        ...    ...    ...                 ...           ...         ...   \n",
      "133593  160751      5  Valid 2025-06-15 11:44:07         47140        5926   \n",
      "133594  160752      3  Valid 2025-06-15 15:32:24         44548        5915   \n",
      "133595  160753      4  Valid 2025-06-15 17:05:57         45848        5859   \n",
      "133596  160754      5  Valid 2025-06-15 17:06:10         45848        5974   \n",
      "133597  160755      6  Valid 2025-06-15 17:08:17         45848        6041   \n",
      "\n",
      "       ProcessStatus         RandomTIV  year  \n",
      "122516      Retained  0,89568284083400  2025  \n",
      "122517      Retained  0,89226332428200  2025  \n",
      "122518      Retained  0,23522614362800  2025  \n",
      "122519      Retained  0,48776594527000  2025  \n",
      "122520      Retained  0,06392968383800  2025  \n",
      "...              ...               ...   ...  \n",
      "133593     Untreated  0,64955524895400  2025  \n",
      "133594     Untreated  0,72993277986600  2025  \n",
      "133595     Untreated  0,25478467729200  2025  \n",
      "133596     Untreated  0,63184846502600  2025  \n",
      "133597     Untreated  0,47338201237600  2025  \n",
      "\n",
      "[11082 rows x 9 columns]\n"
     ]
    }
   ],
   "source": [
    "wish_query = session.query(cf.WISH_QUERY)\n",
    "print(f\"stockée dans {wish_query}\")\n",
    "\n",
    "wt = WishTable(wish_query)\n",
    "wt.adjust()\n",
    "print(wt)"
   ]
  },
  {
   "cell_type": "code",
   "execution_count": 7,
   "id": "1fad80c2-b516-4c3f-8c68-e9dc50f18791",
   "metadata": {
    "scrolled": true
   },
   "outputs": [
    {
     "data": {
      "text/plain": [
       "<Axes: >"
      ]
     },
     "execution_count": 7,
     "metadata": {},
     "output_type": "execute_result"
    },
    {
     "data": {
      "image/png": "[encoded data removed]",
      "text/plain": [
       "<Figure size 640x480 with 1 Axes>"
      ]
     },
     "metadata": {},
     "output_type": "display_data"
    }
   ],
   "source": [
    "# n'importe quoi, juste pour voir comment faire un graphique\n",
    "wt.df[\"MembershipId\"].hist()\n"
   ]
  },
  {
   "cell_type": "code",
   "execution_count": null,
   "id": "5b51a211-2389-4211-8fea-e35b0e8f4dd0",
   "metadata": {},
   "outputs": [],
   "source": []
  }
 ],
 "metadata": {
  "kernelspec": {
   "display_name": "Python 3 (ipykernel)",
   "language": "python",
   "name": "python3"
  },
  "language_info": {
   "codemirror_mode": {
    "name": "ipython",
    "version": 3
   },
   "file_extension": ".py",
   "mimetype": "text/x-python",
   "name": "python",
   "nbconvert_exporter": "python",
   "pygments_lexer": "ipython3",
   "version": "3.13.3"
  }
 },
 "nbformat": 4,
 "nbformat_minor": 5
}
