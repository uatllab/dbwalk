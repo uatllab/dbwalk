{
 "cells": [
  {
   "cell_type": "markdown",
   "id": "72d26956-3c84-4c7a-b001-d5ac40a6b1c8",
   "metadata": {},
   "source": [
    "On se connecte à la base de données"
   ]
  },
  {
   "cell_type": "code",
   "execution_count": null,
   "id": "a9ba7957-9a00-40de-9911-be7ec53814ce",
   "metadata": {},
   "outputs": [],
   "source": [
    "import settings as cf\n",
    "from dbwalk import Session, WishTable\n",
    "session = Session()\n",
    "user = input(f\"User name (empty for default) : \")\n",
    "passwd = input(\"Password (empty for default) : \")\n",
    "\n",
    "session.open()"
   ]
  },
  {
   "cell_type": "markdown",
   "id": "4ebf97a6-0aad-4692-a3c1-bf885a08aaa2",
   "metadata": {},
   "source": [
    "On récupère la table `wish`"
   ]
  },
  {
   "cell_type": "code",
   "execution_count": null,
   "id": "2195bd5d-35cb-4ca4-83f2-b99f3b88e16c",
   "metadata": {},
   "outputs": [],
   "source": [
    "wish_query = session.query(cf.WISH_QUERY)   \n",
    "wt = WishTable(wish_query)\n",
    "wt.adjust()\n",
    "print(wt)"
   ]
  },
  {
   "cell_type": "code",
   "execution_count": null,
   "id": "1fad80c2-b516-4c3f-8c68-e9dc50f18791",
   "metadata": {},
   "outputs": [],
   "source": []
  }
 ],
 "metadata": {
  "kernelspec": {
   "display_name": "Python 3 (ipykernel)",
   "language": "python",
   "name": "python3"
  },
  "language_info": {
   "codemirror_mode": {
    "name": "ipython",
    "version": 3
   },
   "file_extension": ".py",
   "mimetype": "text/x-python",
   "name": "python",
   "nbconvert_exporter": "python",
   "pygments_lexer": "ipython3",
   "version": "3.13.3"
  }
 },
 "nbformat": 4,
 "nbformat_minor": 5
}
