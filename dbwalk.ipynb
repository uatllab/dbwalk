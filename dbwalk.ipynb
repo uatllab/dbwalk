{
 "cells": [
  {
   "cell_type": "markdown",
   "id": "5a7c9cd9-2640-4a22-bea9-2494e343535d",
   "metadata": {},
   "source": [
    "## Initialisation\n",
    "\n",
    "On charge les modules nécessaires :\n",
    "* `matplotlib`, un module python pour faire des graphiques\n",
    "* `settings` qui définit des paramètres de configuration\n",
    "* `dbwalk`, un module fait maison qui s'interface à la BD"
   ]
  },
  {
   "cell_type": "code",
   "execution_count": null,
   "id": "bcaf9547-b7d1-445e-b3ee-b66dfb2cb13c",
   "metadata": {},
   "outputs": [],
   "source": [
    "import matplotlib.pyplot as plt\n",
    "import settings as cf\n",
    "from dbwalk import Session, WishTable, MembershipTable, ActivityTable"
   ]
  },
  {
   "cell_type": "markdown",
   "id": "72d26956-3c84-4c7a-b001-d5ac40a6b1c8",
   "metadata": {},
   "source": [
    "## Ouverture d'une session sur le serveur\n",
    "\n",
    "On se connecte à la base de données. Si les 2 valeurs demandées ci-dessous ne sont pas renseignées, on se connecte avec les valeurs définies dans `settings.py`."
   ]
  },
  {
   "cell_type": "code",
   "execution_count": null,
   "id": "a9ba7957-9a00-40de-9911-be7ec53814ce",
   "metadata": {},
   "outputs": [],
   "source": [
    "session = Session()\n",
    "user = input(f\"User name (empty for default) : \")\n",
    "passwd = input(\"Password (empty for default) : \")\n",
    "\n",
    "session.open()"
   ]
  },
  {
   "cell_type": "markdown",
   "id": "4ebf97a6-0aad-4692-a3c1-bf885a08aaa2",
   "metadata": {},
   "source": [
    "## Récupération des tables"
   ]
  },
  {
   "cell_type": "markdown",
   "id": "cb47d3b6-47b7-4a34-8586-8be9753e676f",
   "metadata": {},
   "source": [
    "### UATL_Membership\n",
    "On récupère la table `UATL_Membership` depuis le serveur.\n",
    "Son contenu est stocké localement dans un fichier temporaire.\n",
    "\n",
    "Puis on épure : on garde seulement les lignes et colonnes qui nous intéressent."
   ]
  },
  {
   "cell_type": "code",
   "execution_count": null,
   "id": "e593b042-7181-4869-aac1-4c80c141afd7",
   "metadata": {},
   "outputs": [],
   "source": [
    "membership_query = session.query(cf.MEMBERSHIP_QUERY)\n",
    "print(f\"stockée dans {membership_query}\")\n",
    "\n",
    "mt = MembershipTable(membership_query)\n",
    "mt.adjust()\n",
    "print(mt)"
   ]
  },
  {
   "cell_type": "markdown",
   "id": "0f88e293-9052-46ea-8571-eb6b1ac3d364",
   "metadata": {},
   "source": [
    "### UATL_Activity\n",
    "On récupère la table `UATL_Activity` depuis le serveur.\n",
    "Son contenu est stocké localement dans un fichier temporaire.\n",
    "\n",
    "Puis on épure : on garde seulement les lignes et colonnes qui nous intéressent."
   ]
  },
  {
   "cell_type": "code",
   "execution_count": null,
   "id": "28aa893b-2f9c-40d6-8fac-aab39e190ec9",
   "metadata": {},
   "outputs": [],
   "source": [
    "activity_query = session.query(cf.ACTIVITY_QUERY)\n",
    "print(f\"stockée dans {activity_query}\")\n",
    "\n",
    "at = ActivityTable(activity_query)\n",
    "at.adjust()\n",
    "print(at)"
   ]
  },
  {
   "cell_type": "markdown",
   "id": "43eba5c4-4612-4f9c-8844-1f26dcc2b092",
   "metadata": {},
   "source": [
    "### UATL_Wish\n",
    "On récupère la table `UATL_Wish` depuis le serveur.\n",
    "Son contenu est stocké localement dans un fichier temporaire.\n",
    "\n",
    "Puis on épure : on garde seulement les lignes et colonnes qui nous intéressent."
   ]
  },
  {
   "cell_type": "code",
   "execution_count": null,
   "id": "2195bd5d-35cb-4ca4-83f2-b99f3b88e16c",
   "metadata": {},
   "outputs": [],
   "source": [
    "wish_query = session.query(cf.WISH_QUERY)\n",
    "print(f\"stockée dans {wish_query}\")\n",
    "\n",
    "wt = WishTable(wish_query)\n",
    "wt.adjust()\n",
    "print(wt)"
   ]
  },
  {
   "cell_type": "code",
   "execution_count": null,
   "id": "1fad80c2-b516-4c3f-8c68-e9dc50f18791",
   "metadata": {
    "scrolled": true
   },
   "outputs": [],
   "source": [
    "#wt.df[\"MembershipId\"].hist()\n",
    "#wt.df[\"MembershipId\"].plot(kind=\"pie\")\n",
    "wt.df.groupby(by=[\"MembershipId\"]).groups"
   ]
  }
 ],
 "metadata": {
  "kernelspec": {
   "display_name": "Python 3 (ipykernel)",
   "language": "python",
   "name": "python3"
  },
  "language_info": {
   "codemirror_mode": {
    "name": "ipython",
    "version": 3
   },
   "file_extension": ".py",
   "mimetype": "text/x-python",
   "name": "python",
   "nbconvert_exporter": "python",
   "pygments_lexer": "ipython3",
   "version": "3.13.3"
  }
 },
 "nbformat": 4,
 "nbformat_minor": 5
}
