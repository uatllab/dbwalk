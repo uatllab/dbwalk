{
 "cells": [
  {
   "cell_type": "markdown",
   "id": "5a7c9cd9-2640-4a22-bea9-2494e343535d",
   "metadata": {},
   "source": [
    "## Initialisation\n",
    "\n",
    "On charge les modules nécessaires :\n",
    "* `matplotlib`, un module python pour faire des graphiques\n",
    "* `settings` qui définit des paramètres de configuration\n",
    "* `dbwalk`, un module fait maison qui s'interface à la BD"
   ]
  },
  {
   "cell_type": "code",
   "execution_count": 1,
   "id": "bcaf9547-b7d1-445e-b3ee-b66dfb2cb13c",
   "metadata": {},
   "outputs": [],
   "source": [
    "import matplotlib.pyplot as plt\n",
    "import settings as cf\n",
    "from dbwalk import Session, WishTable, MembershipTable"
   ]
  },
  {
   "cell_type": "markdown",
   "id": "72d26956-3c84-4c7a-b001-d5ac40a6b1c8",
   "metadata": {},
   "source": [
    "## Ouverture d'une session sur le serveur\n",
    "\n",
    "On se connecte à la base de données. Si les 2 valeurs demandées ci-dessous ne sont pas renseignées, on se connecte avec les valeurs définies dans `settings.py`."
   ]
  },
  {
   "cell_type": "code",
   "execution_count": 2,
   "id": "a9ba7957-9a00-40de-9911-be7ec53814ce",
   "metadata": {},
   "outputs": [
    {
     "name": "stdin",
     "output_type": "stream",
     "text": [
      "User name (empty for default) :  \n",
      "Password (empty for default) :  \n"
     ]
    },
    {
     "data": {
      "text/plain": [
       "0"
      ]
     },
     "execution_count": 2,
     "metadata": {},
     "output_type": "execute_result"
    }
   ],
   "source": [
    "session = Session()\n",
    "user = input(f\"User name (empty for default) : \")\n",
    "passwd = input(\"Password (empty for default) : \")\n",
    "\n",
    "session.open()"
   ]
  },
  {
   "cell_type": "markdown",
   "id": "4ebf97a6-0aad-4692-a3c1-bf885a08aaa2",
   "metadata": {},
   "source": [
    "## Récupération des tables\n",
    "### UATL_Wish\n",
    "On récupère la table `UATL_Wish` depuis le serveur.\n",
    "Son contenu est stocké localement dans un fichier temporaire.\n",
    "\n",
    "Puis on épure : on garde seulement les lignes et colonnes qui nous intéressent."
   ]
  },
  {
   "cell_type": "code",
   "execution_count": 3,
   "id": "2195bd5d-35cb-4ca4-83f2-b99f3b88e16c",
   "metadata": {},
   "outputs": [
    {
     "name": "stdout",
     "output_type": "stream",
     "text": [
      "stockée dans /tmp/mysession_query336\n"
     ]
    },
    {
     "name": "stderr",
     "output_type": "stream",
     "text": [
      "/home/data/jaclin/devel/uatl/dbwalk/dbwalk.py:37: DtypeWarning: Columns (7,8,10,11) have mixed types. Specify dtype option on import or set low_memory=False.\n",
      "  df = pd.read_csv(\n"
     ]
    },
    {
     "name": "stdout",
     "output_type": "stream",
     "text": [
      "            Id  Order    Status                Date  MembershipId  ActivityId  \\\n",
      "122516  149673      3     Valid 2025-01-06 11:40:05         41269        5803   \n",
      "122517  149674      5     Valid 2025-01-06 12:04:16         41234        5803   \n",
      "122518  149675      2     Valid 2025-01-06 16:13:52         42144        5803   \n",
      "122519  149676      3     Valid 2025-01-08 10:26:51         41074        5569   \n",
      "122520  149677      6     Valid 2025-01-08 10:36:44         43291        5798   \n",
      "...        ...    ...       ...                 ...           ...         ...   \n",
      "132999  160157      2     Valid 2025-06-12 17:37:16         44623        6102   \n",
      "133000  160158      3  Canceled 2025-06-12 17:40:06         47283        6046   \n",
      "133001  160159      3     Valid 2025-06-12 17:48:08         47283        5814   \n",
      "133002  160160      4     Valid 2025-06-12 17:50:58         47283        5940   \n",
      "133003  160161      2     Valid 2025-06-12 17:51:08         47286        5976   \n",
      "\n",
      "       ProcessStatus         RandomTIV  year  \n",
      "122516      Retained  0,89568284083400  2025  \n",
      "122517      Retained  0,89226332428200  2025  \n",
      "122518      Retained  0,23522614362800  2025  \n",
      "122519      Retained  0,48776594527000  2025  \n",
      "122520      Retained  0,06392968383800  2025  \n",
      "...              ...               ...   ...  \n",
      "132999     Untreated  0,38144673133200  2025  \n",
      "133000     Untreated  0,20963599995700  2025  \n",
      "133001     Untreated  0,99101644723900  2025  \n",
      "133002     Untreated  0,64856344651000  2025  \n",
      "133003     Untreated  0,86061205924500  2025  \n",
      "\n",
      "[10488 rows x 9 columns]\n"
     ]
    }
   ],
   "source": [
    "wish_query = session.query(cf.WISH_QUERY)\n",
    "print(f\"stockée dans {wish_query}\")\n",
    "\n",
    "wt = WishTable(wish_query)\n",
    "wt.adjust()\n",
    "print(wt)"
   ]
  },
  {
   "cell_type": "code",
   "execution_count": 4,
   "id": "1fad80c2-b516-4c3f-8c68-e9dc50f18791",
   "metadata": {
    "scrolled": true
   },
   "outputs": [
    {
     "data": {
      "text/plain": [
       "{40155: [122582], 40188: [122577], 40265: [122543], 40360: [122559], 40448: [122538], 40613: [122560], 40687: [122558], 40778: [122549], 40883: [122533, 122568], 40929: [122530], 41024: [122521], 41074: [122519], 41234: [122517], 41253: [122541], 41269: [122516], 41362: [122570, 122572], 41426: [122555], 41455: [122576], 41515: [122567], 41607: [122540], 41610: [122581], 41669: [122522], 41695: [122554], 41870: [122544], 41918: [122535], 42074: [122556], 42088: [127159], 42144: [122518], 42166: [122579], 42167: [122578], 42227: [122580], 42307: [122563], 42553: [122534], 42603: [122536], 42738: [122546], 42753: [122547], 42839: [122557], 42866: [122566], 43095: [122542, 122562], 43218: [122569], 43258: [122529, 122574], 43279: [122564], 43291: [122520], 43305: [122551, 122552], 43384: [122575], 43416: [122531, 122565], 43667: [122548], 43800: [122545], 43831: [122537, 122561, 122573], 43834: [122571], 43847: [122539], 43850: [122532], 43878: [122553], 43891: [122523, 122524], 43892: [122525, 122526, 122527, 122528], 43894: [122550], 43896: [122583], 43897: [122584, 122585], 43899: [122586, 123078], 43902: [122587, 123064, 123065, 123066, 123069, 123070, 123071], 43903: [122931, 122932, 122934, 122935, 122936, 122937, 122939, 122949, 122950, 122952, 122954], 43905: [122588, 122589, 122592, 123418, 128834, 128835], 43906: [122590, 122591, 122593, 122594, 122595, 122596, 122597], 43907: [122598, 122599, 122600, 122601], 43908: [122619, 122620, 122622, 122623, 122624, 122625], 43909: [122602], 43910: [123670, 123672, 123674, 123675, 123678, 123692], 43912: [125799, 128609, 128611, 128615, 128617, 128621, 128625], 43913: [122603, 122604, 122605, 122606, 122607], 43914: [122608, 122609, 122612, 122613, 122614, 122615, 122616], 43915: [122610, 122611], 43916: [122617, 122618, 122621, 122626, 122627, 130192], 43918: [122628, 122629], 43919: [122630], 43920: [123784, 123785, 123786], 43921: [122631, 122638, 122639], 43922: [122632, 122633, 122634, 122635, 122636, 122637, 125578, 125579, 127948, 127949], 43923: [122640, 122641], 43925: [122642], 43926: [122643, 122644, 122645, 125741, 125745, 125747, 125748], 43929: [127277, 127282, 129581], 43930: [122646, 122647, 122648, 122649, 122650, 122651, 122742, 123074, 124495], 43931: [122652, 122657], 43932: [122653, 122654, 122655, 122656], 43933: [122658], 43935: [123816, 123819, 123820, 123821, 123824], 43936: [122659, 122660, 122661, 122662], 43939: [122921], 43941: [122663, 122664, 122665, 122666, 122667, 126414, 126415], 43950: [122668], 43951: [122669, 122670, 122671, 122672, 122673, 122674], 43952: [122675, 122676, 122677], 43956: [122778, 122782], 43957: [122678, 122679, 122680, 122681, 122682, 122683], 43958: [122710, 122711, 122732, 122745, 122746, 122747, 122837, 122840], 43960: [122860, 122861, 122862, 122863], 43961: [122684, 122685, 122686, 122687, 122688, 122689, 124738], 43963: [122690, 122691], 43964: [123647, 123648, 123649, 123650, 123651], 43965: [122692, 122693, 122694, 122695, 122696], ...}"
      ]
     },
     "execution_count": 4,
     "metadata": {},
     "output_type": "execute_result"
    }
   ],
   "source": [
    "#wt.df[\"MembershipId\"].hist()\n",
    "#wt.df[\"MembershipId\"].plot(kind=\"pie\")\n",
    "wt.df.groupby(by=[\"MembershipId\"]).groups"
   ]
  },
  {
   "cell_type": "markdown",
   "id": "cb47d3b6-47b7-4a34-8586-8be9753e676f",
   "metadata": {},
   "source": [
    "### UATL_Membership\n",
    "On récupère la table `UATL_Membership` depuis le serveur.\n",
    "Son contenu est stocké localement dans un fichier temporaire.\n",
    "\n",
    "Puis on épure : on garde seulement les lignes et colonnes qui nous intéressent."
   ]
  },
  {
   "cell_type": "code",
   "execution_count": 3,
   "id": "e593b042-7181-4869-aac1-4c80c141afd7",
   "metadata": {},
   "outputs": [
    {
     "name": "stdout",
     "output_type": "stream",
     "text": [
      "stockée dans /tmp/mysession_query337\n",
      "             Status     CreatedDateTime        ValidDateTime  \\\n",
      "0             Payed 2018-05-31 23:09:59  01/06/2018 09:19:55   \n",
      "1             Payed 2018-05-31 23:19:25  03/06/2018 05:34:46   \n",
      "2             Payed 2018-06-01 09:04:48  12/06/2018 03:04:00   \n",
      "3             Payed 2018-06-01 15:02:24  01/06/2018 13:06:50   \n",
      "4             Payed 2018-06-01 15:04:00  01/01/1970 00:00:00   \n",
      "...             ...                 ...                  ...   \n",
      "42585         Payed 2025-06-12 17:11:11                  NaN   \n",
      "42586         Payed 2025-06-12 17:26:54                  NaN   \n",
      "42587         Payed 2025-06-12 17:33:01                  NaN   \n",
      "42588         Payed 2025-06-12 17:47:03                  NaN   \n",
      "42589  WaitPayement 2025-06-12 17:48:00                  NaN   \n",
      "\n",
      "       InvoicedDateTime    Rate  SupportingDocumentsPortfolioId PaymentType  \\\n",
      "0                   NaN  Normal                             NaN        Card   \n",
      "1                   NaN  Normal                             NaN        Card   \n",
      "2                   NaN  Normal                             NaN      Cheque   \n",
      "3                   NaN  Normal                             NaN        Card   \n",
      "4                   NaN  Normal                             NaN        Card   \n",
      "...                 ...     ...                             ...         ...   \n",
      "42585               NaN  Normal                             NaN        Card   \n",
      "42586               NaN  Normal                             NaN        Card   \n",
      "42587               NaN  Normal                             NaN        Card   \n",
      "42588               NaN  Normal                             NaN        Card   \n",
      "42589               NaN  Normal                             NaN        Card   \n",
      "\n",
      "       AcceptImageRight     Id  MemberId AcceptNewsletter  Year_Code  \\\n",
      "0                  True      1      2532              NaN          8   \n",
      "1                  True      2      2812              NaN          8   \n",
      "2                  True      3      5164              NaN          8   \n",
      "3                 False      4      4882              NaN          8   \n",
      "4                  True      5      3395              NaN          8   \n",
      "...                 ...    ...       ...              ...        ...   \n",
      "42585              True  47285      8258             True         15   \n",
      "42586             False  47286      6365             True         15   \n",
      "42587             False  47287      8923             True         15   \n",
      "42588              True  47288      2592             True         15   \n",
      "42589              True  47289      5797             True         15   \n",
      "\n",
      "      AcceptYearReduction  \n",
      "0                     NaN  \n",
      "1                     NaN  \n",
      "2                     NaN  \n",
      "3                     NaN  \n",
      "4                     NaN  \n",
      "...                   ...  \n",
      "42585                 NaN  \n",
      "42586                 NaN  \n",
      "42587                 NaN  \n",
      "42588                 NaN  \n",
      "42589                 NaN  \n",
      "\n",
      "[42590 rows x 13 columns]\n"
     ]
    }
   ],
   "source": [
    "membership_query = session.query(cf.MEMBERSHIP_QUERY)\n",
    "print(f\"stockée dans {membership_query}\")\n",
    "\n",
    "mt = MembershipTable(membership_query)\n",
    "mt.adjust()\n",
    "print(mt)"
   ]
  },
  {
   "cell_type": "code",
   "execution_count": null,
   "id": "eb63b56d-f9a6-4174-8f10-7c7cceb8ad88",
   "metadata": {},
   "outputs": [],
   "source": []
  }
 ],
 "metadata": {
  "kernelspec": {
   "display_name": "Python 3 (ipykernel)",
   "language": "python",
   "name": "python3"
  },
  "language_info": {
   "codemirror_mode": {
    "name": "ipython",
    "version": 3
   },
   "file_extension": ".py",
   "mimetype": "text/x-python",
   "name": "python",
   "nbconvert_exporter": "python",
   "pygments_lexer": "ipython3",
   "version": "3.13.3"
  }
 },
 "nbformat": 4,
 "nbformat_minor": 5
}
