{
 "cells": [
  {
   "cell_type": "markdown",
   "id": "5a7c9cd9-2640-4a22-bea9-2494e343535d",
   "metadata": {},
   "source": [
    "## Initialisation\n",
    "\n",
    "On charge les modules nécessaires :\n",
    "* `matplotlib`, un module python pour faire des graphiques\n",
    "* `settings` qui définit des paramètres de configuration\n",
    "* `dbwalk`, un module fait maison qui s'interface à la BD"
   ]
  },
  {
   "cell_type": "code",
   "execution_count": null,
   "id": "bcaf9547-b7d1-445e-b3ee-b66dfb2cb13c",
   "metadata": {},
   "outputs": [],
   "source": [
    "import matplotlib.pyplot as plt\n",
    "import settings as cf\n",
    "from dbwalk import Session, WishTable"
   ]
  },
  {
   "cell_type": "markdown",
   "id": "72d26956-3c84-4c7a-b001-d5ac40a6b1c8",
   "metadata": {},
   "source": [
    "## Ouverture d'une session sur le serveur\n",
    "\n",
    "On se connecte à la base de données. Si les 2 valeurs demandées ci-dessous ne sont pas renseignées, on se connecte avec les valeurs définies dans `settings.py`."
   ]
  },
  {
   "cell_type": "code",
   "execution_count": null,
   "id": "a9ba7957-9a00-40de-9911-be7ec53814ce",
   "metadata": {},
   "outputs": [],
   "source": [
    "session = Session()\n",
    "user = input(f\"User name (empty for default) : \")\n",
    "passwd = input(\"Password (empty for default) : \")\n",
    "\n",
    "session.open()"
   ]
  },
  {
   "cell_type": "markdown",
   "id": "4ebf97a6-0aad-4692-a3c1-bf885a08aaa2",
   "metadata": {},
   "source": [
    "## Récupération des tables\n",
    "\n",
    "On récupère la table `wish` depuis le serveur.\n",
    "Son contenu est stocké localement dans un fichier temporaire.\n",
    "\n",
    "Puis on épure : on garde seulement les lignes et colonnes qui nous intéressent."
   ]
  },
  {
   "cell_type": "code",
   "execution_count": null,
   "id": "2195bd5d-35cb-4ca4-83f2-b99f3b88e16c",
   "metadata": {},
   "outputs": [],
   "source": [
    "wish_query = session.query(cf.WISH_QUERY)\n",
    "print(f\"stockée dans {wish_query}\")\n",
    "\n",
    "wt = WishTable(wish_query)\n",
    "wt.adjust()\n",
    "print(wt)"
   ]
  },
  {
   "cell_type": "code",
   "execution_count": null,
   "id": "1fad80c2-b516-4c3f-8c68-e9dc50f18791",
   "metadata": {},
   "outputs": [],
   "source": [
    "#wt.df[\"MembershipId\"].hist()\n",
    "wt.df[\"MembershipId\"].plot(kind=\"pie\")\n"
   ]
  }
 ],
 "metadata": {
  "kernelspec": {
   "display_name": "Python 3 (ipykernel)",
   "language": "python",
   "name": "python3"
  },
  "language_info": {
   "codemirror_mode": {
    "name": "ipython",
    "version": 3
   },
   "file_extension": ".py",
   "mimetype": "text/x-python",
   "name": "python",
   "nbconvert_exporter": "python",
   "pygments_lexer": "ipython3",
   "version": "3.13.3"
  }
 },
 "nbformat": 4,
 "nbformat_minor": 5
}
